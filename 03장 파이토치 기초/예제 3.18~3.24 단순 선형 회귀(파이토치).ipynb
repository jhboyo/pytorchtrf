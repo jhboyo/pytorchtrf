{
 "cells": [
  {
   "cell_type": "code",
   "execution_count": 1,
   "id": "316898f4",
   "metadata": {},
   "outputs": [],
   "source": [
    "import torch\n",
    "from torch import optim"
   ]
  },
  {
   "cell_type": "code",
   "execution_count": 2,
   "id": "1c883318",
   "metadata": {},
   "outputs": [
    {
     "name": "stderr",
     "output_type": "stream",
     "text": [
      "\n",
      "A module that was compiled using NumPy 1.x cannot be run in\n",
      "NumPy 2.1.3 as it may crash. To support both 1.x and 2.x\n",
      "versions of NumPy, modules must be compiled with NumPy 2.0.\n",
      "Some module may need to rebuild instead e.g. with 'pybind11>=2.12'.\n",
      "\n",
      "If you are a user of the module, the easiest solution will be to\n",
      "downgrade to 'numpy<2' or try to upgrade the affected module.\n",
      "We expect that some modules will need time to support NumPy 2.\n",
      "\n",
      "Traceback (most recent call last):  File \"<frozen runpy>\", line 198, in _run_module_as_main\n",
      "  File \"<frozen runpy>\", line 88, in _run_code\n",
      "  File \"/Users/joonhokim/Library/Caches/pypoetry/virtualenvs/pytorchtrf-_W52fTQ2-py3.11/lib/python3.11/site-packages/ipykernel_launcher.py\", line 18, in <module>\n",
      "    app.launch_new_instance()\n",
      "  File \"/Users/joonhokim/Library/Caches/pypoetry/virtualenvs/pytorchtrf-_W52fTQ2-py3.11/lib/python3.11/site-packages/traitlets/config/application.py\", line 1075, in launch_instance\n",
      "    app.start()\n",
      "  File \"/Users/joonhokim/Library/Caches/pypoetry/virtualenvs/pytorchtrf-_W52fTQ2-py3.11/lib/python3.11/site-packages/ipykernel/kernelapp.py\", line 739, in start\n",
      "    self.io_loop.start()\n",
      "  File \"/Users/joonhokim/Library/Caches/pypoetry/virtualenvs/pytorchtrf-_W52fTQ2-py3.11/lib/python3.11/site-packages/tornado/platform/asyncio.py\", line 205, in start\n",
      "    self.asyncio_loop.run_forever()\n",
      "  File \"/Users/joonhokim/.pyenv/versions/3.11.10/lib/python3.11/asyncio/base_events.py\", line 608, in run_forever\n",
      "    self._run_once()\n",
      "  File \"/Users/joonhokim/.pyenv/versions/3.11.10/lib/python3.11/asyncio/base_events.py\", line 1936, in _run_once\n",
      "    handle._run()\n",
      "  File \"/Users/joonhokim/.pyenv/versions/3.11.10/lib/python3.11/asyncio/events.py\", line 84, in _run\n",
      "    self._context.run(self._callback, *self._args)\n",
      "  File \"/Users/joonhokim/Library/Caches/pypoetry/virtualenvs/pytorchtrf-_W52fTQ2-py3.11/lib/python3.11/site-packages/ipykernel/kernelbase.py\", line 545, in dispatch_queue\n",
      "    await self.process_one()\n",
      "  File \"/Users/joonhokim/Library/Caches/pypoetry/virtualenvs/pytorchtrf-_W52fTQ2-py3.11/lib/python3.11/site-packages/ipykernel/kernelbase.py\", line 534, in process_one\n",
      "    await dispatch(*args)\n",
      "  File \"/Users/joonhokim/Library/Caches/pypoetry/virtualenvs/pytorchtrf-_W52fTQ2-py3.11/lib/python3.11/site-packages/ipykernel/kernelbase.py\", line 437, in dispatch_shell\n",
      "    await result\n",
      "  File \"/Users/joonhokim/Library/Caches/pypoetry/virtualenvs/pytorchtrf-_W52fTQ2-py3.11/lib/python3.11/site-packages/ipykernel/ipkernel.py\", line 362, in execute_request\n",
      "    await super().execute_request(stream, ident, parent)\n",
      "  File \"/Users/joonhokim/Library/Caches/pypoetry/virtualenvs/pytorchtrf-_W52fTQ2-py3.11/lib/python3.11/site-packages/ipykernel/kernelbase.py\", line 778, in execute_request\n",
      "    reply_content = await reply_content\n",
      "  File \"/Users/joonhokim/Library/Caches/pypoetry/virtualenvs/pytorchtrf-_W52fTQ2-py3.11/lib/python3.11/site-packages/ipykernel/ipkernel.py\", line 449, in do_execute\n",
      "    res = shell.run_cell(\n",
      "  File \"/Users/joonhokim/Library/Caches/pypoetry/virtualenvs/pytorchtrf-_W52fTQ2-py3.11/lib/python3.11/site-packages/ipykernel/zmqshell.py\", line 549, in run_cell\n",
      "    return super().run_cell(*args, **kwargs)\n",
      "  File \"/Users/joonhokim/Library/Caches/pypoetry/virtualenvs/pytorchtrf-_W52fTQ2-py3.11/lib/python3.11/site-packages/IPython/core/interactiveshell.py\", line 3075, in run_cell\n",
      "    result = self._run_cell(\n",
      "  File \"/Users/joonhokim/Library/Caches/pypoetry/virtualenvs/pytorchtrf-_W52fTQ2-py3.11/lib/python3.11/site-packages/IPython/core/interactiveshell.py\", line 3130, in _run_cell\n",
      "    result = runner(coro)\n",
      "  File \"/Users/joonhokim/Library/Caches/pypoetry/virtualenvs/pytorchtrf-_W52fTQ2-py3.11/lib/python3.11/site-packages/IPython/core/async_helpers.py\", line 128, in _pseudo_sync_runner\n",
      "    coro.send(None)\n",
      "  File \"/Users/joonhokim/Library/Caches/pypoetry/virtualenvs/pytorchtrf-_W52fTQ2-py3.11/lib/python3.11/site-packages/IPython/core/interactiveshell.py\", line 3334, in run_cell_async\n",
      "    has_raised = await self.run_ast_nodes(code_ast.body, cell_name,\n",
      "  File \"/Users/joonhokim/Library/Caches/pypoetry/virtualenvs/pytorchtrf-_W52fTQ2-py3.11/lib/python3.11/site-packages/IPython/core/interactiveshell.py\", line 3517, in run_ast_nodes\n",
      "    if await self.run_code(code, result, async_=asy):\n",
      "  File \"/Users/joonhokim/Library/Caches/pypoetry/virtualenvs/pytorchtrf-_W52fTQ2-py3.11/lib/python3.11/site-packages/IPython/core/interactiveshell.py\", line 3577, in run_code\n",
      "    exec(code_obj, self.user_global_ns, self.user_ns)\n",
      "  File \"/var/folders/yj/cyt3mklj4xq6yzx3zrch7yz80000gp/T/ipykernel_92407/1269431169.py\", line 1, in <module>\n",
      "    x = torch.FloatTensor([\n",
      "/var/folders/yj/cyt3mklj4xq6yzx3zrch7yz80000gp/T/ipykernel_92407/1269431169.py:1: UserWarning: Failed to initialize NumPy: _ARRAY_API not found (Triggered internally at /Users/runner/work/pytorch/pytorch/pytorch/torch/csrc/utils/tensor_numpy.cpp:84.)\n",
      "  x = torch.FloatTensor([\n"
     ]
    }
   ],
   "source": [
    "x = torch.FloatTensor([\n",
    "    [1], [2], [3], [4], [5], [6], [7], [8], [9], [10],\n",
    "    [11], [12], [13], [14], [15], [16], [17], [18], [19], [20],\n",
    "    [21], [22], [23], [24], [25], [26], [27], [28], [29], [30]\n",
    "])\n",
    "y = torch.FloatTensor([\n",
    "    [0.94], [1.98], [2.88], [3.92], [3.96], [4.55], [5.64], [6.3], [7.44], [9.1],\n",
    "    [8.46], [9.5], [10.67], [11.16], [14], [11.83], [14.4], [14.25], [16.2], [16.32],\n",
    "    [17.46], [19.8], [18], [21.34], [22], [22.5], [24.57], [26.04], [21.6], [28.8]\n",
    "])"
   ]
  },
  {
   "cell_type": "code",
   "execution_count": 4,
   "id": "e3fc316c",
   "metadata": {},
   "outputs": [],
   "source": [
    "# 하이퍼파리미터 초기화\n",
    "weight = torch.zeros(1, requires_grad=True) # 가중치\n",
    "bias = torch.zeros(1, requires_grad=True) # 편향    \n",
    "learning_rate = 0.001 # 학습률"
   ]
  },
  {
   "cell_type": "code",
   "execution_count": 5,
   "id": "01e776cd",
   "metadata": {},
   "outputs": [],
   "source": [
    "# 최적화 함수 초기화 \n",
    "# 확률적 경사하강법으로 가중치와 편향 업데이트\n",
    "optimizer = optim.SGD([weight, bias], lr=learning_rate)\n"
   ]
  },
  {
   "cell_type": "code",
   "execution_count": 6,
   "id": "7927188d",
   "metadata": {},
   "outputs": [
    {
     "name": "stdout",
     "output_type": "stream",
     "text": [
      "Epoch : 1000, Weight : 0.864, Bias : -0.138, Cost : 1.393\n",
      "Epoch : 2000, Weight : 0.870, Bias : -0.251, Cost : 1.380\n",
      "Epoch : 3000, Weight : 0.873, Bias : -0.321, Cost : 1.375\n",
      "Epoch : 4000, Weight : 0.875, Bias : -0.364, Cost : 1.373\n",
      "Epoch : 5000, Weight : 0.877, Bias : -0.391, Cost : 1.373\n",
      "Epoch : 6000, Weight : 0.878, Bias : -0.408, Cost : 1.372\n",
      "Epoch : 7000, Weight : 0.878, Bias : -0.419, Cost : 1.372\n",
      "Epoch : 8000, Weight : 0.878, Bias : -0.425, Cost : 1.372\n",
      "Epoch : 9000, Weight : 0.879, Bias : -0.429, Cost : 1.372\n",
      "Epoch : 10000, Weight : 0.879, Bias : -0.432, Cost : 1.372\n"
     ]
    }
   ],
   "source": [
    "for epoch in range(10000):\n",
    "    hypothesis = weight * x + bias # 가설함수 y_hat\n",
    "    cost = torch.mean((hypothesis - y) ** 2) # 손실함수\n",
    "\n",
    "    optimizer.zero_grad() # 기울기 초기화   \n",
    "    cost.backward() # 비용함수 기울기 계산\n",
    "    optimizer.step() # 가중치와 편향 업데이트\n",
    "\n",
    "    if (epoch + 1) % 1000 == 0:\n",
    "        print(f\"Epoch : {epoch+1:4d}, Weight : {weight.item():.3f}, Bias : {bias.item():.3f}, Cost : {cost:.3f}\")"
   ]
  }
 ],
 "metadata": {
  "kernelspec": {
   "display_name": "Python 3 (ipykernel)",
   "language": "python",
   "name": "python3"
  },
  "language_info": {
   "codemirror_mode": {
    "name": "ipython",
    "version": 3
   },
   "file_extension": ".py",
   "mimetype": "text/x-python",
   "name": "python",
   "nbconvert_exporter": "python",
   "pygments_lexer": "ipython3",
   "version": "3.11.10"
  }
 },
 "nbformat": 4,
 "nbformat_minor": 5
}
