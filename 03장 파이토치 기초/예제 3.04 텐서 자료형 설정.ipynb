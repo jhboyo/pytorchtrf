{
 "cells": [
  {
   "cell_type": "code",
   "execution_count": 1,
   "id": "48a684ea-c14c-4a19-8d0e-34eca770387c",
   "metadata": {},
   "outputs": [
    {
     "name": "stdout",
     "output_type": "stream",
     "text": [
      "tensor([[0.8140, 0.7677, 0.3779],\n",
      "        [0.1223, 0.4348, 0.1267],\n",
      "        [0.5669, 0.8308, 0.6249]])\n"
     ]
    },
    {
     "name": "stderr",
     "output_type": "stream",
     "text": [
      "\n",
      "A module that was compiled using NumPy 1.x cannot be run in\n",
      "NumPy 2.1.3 as it may crash. To support both 1.x and 2.x\n",
      "versions of NumPy, modules must be compiled with NumPy 2.0.\n",
      "Some module may need to rebuild instead e.g. with 'pybind11>=2.12'.\n",
      "\n",
      "If you are a user of the module, the easiest solution will be to\n",
      "downgrade to 'numpy<2' or try to upgrade the affected module.\n",
      "We expect that some modules will need time to support NumPy 2.\n",
      "\n",
      "Traceback (most recent call last):  File \"<frozen runpy>\", line 198, in _run_module_as_main\n",
      "  File \"<frozen runpy>\", line 88, in _run_code\n",
      "  File \"/Users/joonhokim/Library/Caches/pypoetry/virtualenvs/pytorchtrf-_W52fTQ2-py3.11/lib/python3.11/site-packages/ipykernel_launcher.py\", line 18, in <module>\n",
      "    app.launch_new_instance()\n",
      "  File \"/Users/joonhokim/Library/Caches/pypoetry/virtualenvs/pytorchtrf-_W52fTQ2-py3.11/lib/python3.11/site-packages/traitlets/config/application.py\", line 1075, in launch_instance\n",
      "    app.start()\n",
      "  File \"/Users/joonhokim/Library/Caches/pypoetry/virtualenvs/pytorchtrf-_W52fTQ2-py3.11/lib/python3.11/site-packages/ipykernel/kernelapp.py\", line 739, in start\n",
      "    self.io_loop.start()\n",
      "  File \"/Users/joonhokim/Library/Caches/pypoetry/virtualenvs/pytorchtrf-_W52fTQ2-py3.11/lib/python3.11/site-packages/tornado/platform/asyncio.py\", line 205, in start\n",
      "    self.asyncio_loop.run_forever()\n",
      "  File \"/Users/joonhokim/.pyenv/versions/3.11.10/lib/python3.11/asyncio/base_events.py\", line 608, in run_forever\n",
      "    self._run_once()\n",
      "  File \"/Users/joonhokim/.pyenv/versions/3.11.10/lib/python3.11/asyncio/base_events.py\", line 1936, in _run_once\n",
      "    handle._run()\n",
      "  File \"/Users/joonhokim/.pyenv/versions/3.11.10/lib/python3.11/asyncio/events.py\", line 84, in _run\n",
      "    self._context.run(self._callback, *self._args)\n",
      "  File \"/Users/joonhokim/Library/Caches/pypoetry/virtualenvs/pytorchtrf-_W52fTQ2-py3.11/lib/python3.11/site-packages/ipykernel/kernelbase.py\", line 545, in dispatch_queue\n",
      "    await self.process_one()\n",
      "  File \"/Users/joonhokim/Library/Caches/pypoetry/virtualenvs/pytorchtrf-_W52fTQ2-py3.11/lib/python3.11/site-packages/ipykernel/kernelbase.py\", line 534, in process_one\n",
      "    await dispatch(*args)\n",
      "  File \"/Users/joonhokim/Library/Caches/pypoetry/virtualenvs/pytorchtrf-_W52fTQ2-py3.11/lib/python3.11/site-packages/ipykernel/kernelbase.py\", line 437, in dispatch_shell\n",
      "    await result\n",
      "  File \"/Users/joonhokim/Library/Caches/pypoetry/virtualenvs/pytorchtrf-_W52fTQ2-py3.11/lib/python3.11/site-packages/ipykernel/ipkernel.py\", line 362, in execute_request\n",
      "    await super().execute_request(stream, ident, parent)\n",
      "  File \"/Users/joonhokim/Library/Caches/pypoetry/virtualenvs/pytorchtrf-_W52fTQ2-py3.11/lib/python3.11/site-packages/ipykernel/kernelbase.py\", line 778, in execute_request\n",
      "    reply_content = await reply_content\n",
      "  File \"/Users/joonhokim/Library/Caches/pypoetry/virtualenvs/pytorchtrf-_W52fTQ2-py3.11/lib/python3.11/site-packages/ipykernel/ipkernel.py\", line 449, in do_execute\n",
      "    res = shell.run_cell(\n",
      "  File \"/Users/joonhokim/Library/Caches/pypoetry/virtualenvs/pytorchtrf-_W52fTQ2-py3.11/lib/python3.11/site-packages/ipykernel/zmqshell.py\", line 549, in run_cell\n",
      "    return super().run_cell(*args, **kwargs)\n",
      "  File \"/Users/joonhokim/Library/Caches/pypoetry/virtualenvs/pytorchtrf-_W52fTQ2-py3.11/lib/python3.11/site-packages/IPython/core/interactiveshell.py\", line 3075, in run_cell\n",
      "    result = self._run_cell(\n",
      "  File \"/Users/joonhokim/Library/Caches/pypoetry/virtualenvs/pytorchtrf-_W52fTQ2-py3.11/lib/python3.11/site-packages/IPython/core/interactiveshell.py\", line 3130, in _run_cell\n",
      "    result = runner(coro)\n",
      "  File \"/Users/joonhokim/Library/Caches/pypoetry/virtualenvs/pytorchtrf-_W52fTQ2-py3.11/lib/python3.11/site-packages/IPython/core/async_helpers.py\", line 128, in _pseudo_sync_runner\n",
      "    coro.send(None)\n",
      "  File \"/Users/joonhokim/Library/Caches/pypoetry/virtualenvs/pytorchtrf-_W52fTQ2-py3.11/lib/python3.11/site-packages/IPython/core/interactiveshell.py\", line 3334, in run_cell_async\n",
      "    has_raised = await self.run_ast_nodes(code_ast.body, cell_name,\n",
      "  File \"/Users/joonhokim/Library/Caches/pypoetry/virtualenvs/pytorchtrf-_W52fTQ2-py3.11/lib/python3.11/site-packages/IPython/core/interactiveshell.py\", line 3517, in run_ast_nodes\n",
      "    if await self.run_code(code, result, async_=asy):\n",
      "  File \"/Users/joonhokim/Library/Caches/pypoetry/virtualenvs/pytorchtrf-_W52fTQ2-py3.11/lib/python3.11/site-packages/IPython/core/interactiveshell.py\", line 3577, in run_code\n",
      "    exec(code_obj, self.user_global_ns, self.user_ns)\n",
      "  File \"/var/folders/yj/cyt3mklj4xq6yzx3zrch7yz80000gp/T/ipykernel_47111/2640135576.py\", line 4, in <module>\n",
      "    tensor = torch.rand((3, 3), dtype=torch.float)\n",
      "/var/folders/yj/cyt3mklj4xq6yzx3zrch7yz80000gp/T/ipykernel_47111/2640135576.py:4: UserWarning: Failed to initialize NumPy: _ARRAY_API not found (Triggered internally at /Users/runner/work/pytorch/pytorch/pytorch/torch/csrc/utils/tensor_numpy.cpp:84.)\n",
      "  tensor = torch.rand((3, 3), dtype=torch.float)\n"
     ]
    }
   ],
   "source": [
    "import torch\n",
    "\n",
    "\n",
    "tensor = torch.rand((3, 3), dtype=torch.float)\n",
    "print(tensor)"
   ]
  }
 ],
 "metadata": {
  "kernelspec": {
   "display_name": "Python 3 (ipykernel)",
   "language": "python",
   "name": "python3"
  },
  "language_info": {
   "codemirror_mode": {
    "name": "ipython",
    "version": 3
   },
   "file_extension": ".py",
   "mimetype": "text/x-python",
   "name": "python",
   "nbconvert_exporter": "python",
   "pygments_lexer": "ipython3",
   "version": "3.11.10"
  }
 },
 "nbformat": 4,
 "nbformat_minor": 5
}
