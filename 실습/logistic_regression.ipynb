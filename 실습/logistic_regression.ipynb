{
 "cells": [
  {
   "cell_type": "code",
   "execution_count": 1,
   "metadata": {},
   "outputs": [
    {
     "data": {
      "text/plain": [
       "array([0.26114999, 0.28699984, 0.37989357, 0.39174097, 0.57199613,\n",
       "       0.55971365, 0.59868766, 0.54735762, 0.72312181, 0.80218389,\n",
       "       0.86989153, 0.87653295, 0.85814894, 0.91293423, 0.86989153,\n",
       "       0.9289057 ])"
      ]
     },
     "execution_count": 1,
     "metadata": {},
     "output_type": "execute_result"
    }
   ],
   "source": [
    "import numpy as np\n",
    "\n",
    "def sigmoid(x):\n",
    "    \"\"\"시그모이드 함수\"\"\"\n",
    "    return 1 / (1 + np.exp(-x))\n",
    "    \n",
    "\n",
    "def prediction(X, theta):\n",
    "    \"\"\"로지스틱 회귀 가정 함수\"\"\"\n",
    "    # 여기에 코드를 작성하세요\n",
    "    # 선형 조합 계산 (z = X @ theta)\n",
    "    z = np.dot(X, theta)\n",
    "    # 시그모이드 함수 적용\n",
    "    return sigmoid(z)\n",
    "\n",
    "    \n",
    "\n",
    "# 입력 변수\n",
    "hours_studied = np.array([0.2, 0.3, 0.7, 1, 1.3, 1.8, 2, 2.1, 2.2, 3, 4, 4.2, 4, 4.7, 5.0, 5.9])  # 공부 시간 (단위: 100시간)\n",
    "gpa_rank = np.array([0.9, 0.95, 0.8, 0.82, 0.7, 0.6, 0.55, 0.67, 0.4, 0.3, 0.2, 0.2, 0.15, 0.18, 0.15, 0.05]) # 학년 내신 (백분률)\n",
    "number_of_tries = np.array([1, 2, 2, 2, 4, 2, 2, 2, 3, 3, 3, 3, 2, 4, 1, 2])  # 시험 응시 횟수\n",
    "\n",
    "# 설계 행렬 X 정의\n",
    "X = np.array([  # 설계 행렬 정의\n",
    "    np.ones(16),    # bias 16개 원소 모두 1로 채움\n",
    "    hours_studied,  # 공부 시간\n",
    "    gpa_rank,       # 학년 내신\n",
    "    number_of_tries # 시험 응시 횟수\n",
    "]).T           # 전치\n",
    "\n",
    "# 파라미터 theta 정의\n",
    "theta = [0.5, 0.3, -2, 0.2]  \n",
    "\n",
    "prediction(X, theta)"
   ]
  }
 ],
 "metadata": {
  "kernelspec": {
   "display_name": "pytorchtrf-_W52fTQ2-py3.11",
   "language": "python",
   "name": "python3"
  },
  "language_info": {
   "codemirror_mode": {
    "name": "ipython",
    "version": 3
   },
   "file_extension": ".py",
   "mimetype": "text/x-python",
   "name": "python",
   "nbconvert_exporter": "python",
   "pygments_lexer": "ipython3",
   "version": "3.11.10"
  }
 },
 "nbformat": 4,
 "nbformat_minor": 2
}
